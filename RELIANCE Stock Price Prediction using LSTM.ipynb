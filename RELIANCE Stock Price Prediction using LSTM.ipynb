{
 "cells": [
  {
   "cell_type": "code",
   "execution_count": 1,
   "metadata": {},
   "outputs": [],
   "source": [
    "import numpy as np\n",
    "import pandas as pd"
   ]
  },
  {
   "cell_type": "markdown",
   "metadata": {},
   "source": [
    "uploading and exploring the data"
   ]
  },
  {
   "cell_type": "code",
   "execution_count": 2,
   "metadata": {},
   "outputs": [
    {
     "data": {
      "text/html": [
       "<div>\n",
       "<style scoped>\n",
       "    .dataframe tbody tr th:only-of-type {\n",
       "        vertical-align: middle;\n",
       "    }\n",
       "\n",
       "    .dataframe tbody tr th {\n",
       "        vertical-align: top;\n",
       "    }\n",
       "\n",
       "    .dataframe thead th {\n",
       "        text-align: right;\n",
       "    }\n",
       "</style>\n",
       "<table border=\"1\" class=\"dataframe\">\n",
       "  <thead>\n",
       "    <tr style=\"text-align: right;\">\n",
       "      <th></th>\n",
       "      <th>Date</th>\n",
       "      <th>Symbol</th>\n",
       "      <th>Series</th>\n",
       "      <th>Prev Close</th>\n",
       "      <th>Open</th>\n",
       "      <th>High</th>\n",
       "      <th>Low</th>\n",
       "      <th>Last</th>\n",
       "      <th>Close</th>\n",
       "      <th>VWAP</th>\n",
       "      <th>Volume</th>\n",
       "      <th>Turnover</th>\n",
       "      <th>Trades</th>\n",
       "      <th>Deliverable Volume</th>\n",
       "      <th>%Deliverble</th>\n",
       "    </tr>\n",
       "  </thead>\n",
       "  <tbody>\n",
       "    <tr>\n",
       "      <th>0</th>\n",
       "      <td>2000-01-03</td>\n",
       "      <td>RELIANCE</td>\n",
       "      <td>EQ</td>\n",
       "      <td>233.05</td>\n",
       "      <td>237.50</td>\n",
       "      <td>251.70</td>\n",
       "      <td>237.50</td>\n",
       "      <td>251.70</td>\n",
       "      <td>251.70</td>\n",
       "      <td>249.37</td>\n",
       "      <td>4456424</td>\n",
       "      <td>1.111319e+14</td>\n",
       "      <td>NaN</td>\n",
       "      <td>NaN</td>\n",
       "      <td>NaN</td>\n",
       "    </tr>\n",
       "    <tr>\n",
       "      <th>1</th>\n",
       "      <td>2000-01-04</td>\n",
       "      <td>RELIANCE</td>\n",
       "      <td>EQ</td>\n",
       "      <td>251.70</td>\n",
       "      <td>258.40</td>\n",
       "      <td>271.85</td>\n",
       "      <td>251.30</td>\n",
       "      <td>271.85</td>\n",
       "      <td>271.85</td>\n",
       "      <td>263.52</td>\n",
       "      <td>9487878</td>\n",
       "      <td>2.500222e+14</td>\n",
       "      <td>NaN</td>\n",
       "      <td>NaN</td>\n",
       "      <td>NaN</td>\n",
       "    </tr>\n",
       "    <tr>\n",
       "      <th>2</th>\n",
       "      <td>2000-01-05</td>\n",
       "      <td>RELIANCE</td>\n",
       "      <td>EQ</td>\n",
       "      <td>271.85</td>\n",
       "      <td>256.65</td>\n",
       "      <td>287.90</td>\n",
       "      <td>256.65</td>\n",
       "      <td>286.75</td>\n",
       "      <td>282.50</td>\n",
       "      <td>274.79</td>\n",
       "      <td>26833684</td>\n",
       "      <td>7.373697e+14</td>\n",
       "      <td>NaN</td>\n",
       "      <td>NaN</td>\n",
       "      <td>NaN</td>\n",
       "    </tr>\n",
       "    <tr>\n",
       "      <th>3</th>\n",
       "      <td>2000-01-06</td>\n",
       "      <td>RELIANCE</td>\n",
       "      <td>EQ</td>\n",
       "      <td>282.50</td>\n",
       "      <td>289.00</td>\n",
       "      <td>300.70</td>\n",
       "      <td>289.00</td>\n",
       "      <td>293.50</td>\n",
       "      <td>294.35</td>\n",
       "      <td>295.45</td>\n",
       "      <td>15682286</td>\n",
       "      <td>4.633254e+14</td>\n",
       "      <td>NaN</td>\n",
       "      <td>NaN</td>\n",
       "      <td>NaN</td>\n",
       "    </tr>\n",
       "    <tr>\n",
       "      <th>4</th>\n",
       "      <td>2000-01-07</td>\n",
       "      <td>RELIANCE</td>\n",
       "      <td>EQ</td>\n",
       "      <td>294.35</td>\n",
       "      <td>295.00</td>\n",
       "      <td>317.90</td>\n",
       "      <td>293.00</td>\n",
       "      <td>314.50</td>\n",
       "      <td>314.55</td>\n",
       "      <td>308.91</td>\n",
       "      <td>19870977</td>\n",
       "      <td>6.138388e+14</td>\n",
       "      <td>NaN</td>\n",
       "      <td>NaN</td>\n",
       "      <td>NaN</td>\n",
       "    </tr>\n",
       "  </tbody>\n",
       "</table>\n",
       "</div>"
      ],
      "text/plain": [
       "         Date    Symbol Series  Prev Close    Open    High     Low    Last  \\\n",
       "0  2000-01-03  RELIANCE     EQ      233.05  237.50  251.70  237.50  251.70   \n",
       "1  2000-01-04  RELIANCE     EQ      251.70  258.40  271.85  251.30  271.85   \n",
       "2  2000-01-05  RELIANCE     EQ      271.85  256.65  287.90  256.65  286.75   \n",
       "3  2000-01-06  RELIANCE     EQ      282.50  289.00  300.70  289.00  293.50   \n",
       "4  2000-01-07  RELIANCE     EQ      294.35  295.00  317.90  293.00  314.50   \n",
       "\n",
       "    Close    VWAP    Volume      Turnover  Trades  Deliverable Volume  \\\n",
       "0  251.70  249.37   4456424  1.111319e+14     NaN                 NaN   \n",
       "1  271.85  263.52   9487878  2.500222e+14     NaN                 NaN   \n",
       "2  282.50  274.79  26833684  7.373697e+14     NaN                 NaN   \n",
       "3  294.35  295.45  15682286  4.633254e+14     NaN                 NaN   \n",
       "4  314.55  308.91  19870977  6.138388e+14     NaN                 NaN   \n",
       "\n",
       "   %Deliverble  \n",
       "0          NaN  \n",
       "1          NaN  \n",
       "2          NaN  \n",
       "3          NaN  \n",
       "4          NaN  "
      ]
     },
     "execution_count": 2,
     "metadata": {},
     "output_type": "execute_result"
    }
   ],
   "source": [
    "Data = pd.read_csv('datasets_738413_1279881_RELIANCE.csv')\n",
    "Data.head()"
   ]
  },
  {
   "cell_type": "code",
   "execution_count": 3,
   "metadata": {},
   "outputs": [],
   "source": [
    "Data = Data.sort_values('Date')"
   ]
  },
  {
   "cell_type": "code",
   "execution_count": 4,
   "metadata": {},
   "outputs": [
    {
     "data": {
      "text/plain": [
       "(5075, 15)"
      ]
     },
     "execution_count": 4,
     "metadata": {},
     "output_type": "execute_result"
    }
   ],
   "source": [
    "Data.shape"
   ]
  },
  {
   "cell_type": "markdown",
   "metadata": {},
   "source": [
    "visualise the data"
   ]
  },
  {
   "cell_type": "code",
   "execution_count": 5,
   "metadata": {},
   "outputs": [
    {
     "data": {
      "text/plain": [
       "<Figure size 1500x900 with 1 Axes>"
      ]
     },
     "metadata": {},
     "output_type": "display_data"
    }
   ],
   "source": [
    "import matplotlib.pyplot as plt\n",
    "import seaborn as sns\n",
    "\n",
    "sns.set_style(\"darkgrid\")\n",
    "plt.figure(figsize = (15,9))\n",
    "plt.plot(Data[['Close']])\n",
    "plt.xticks(range(0,Data.shape[0],500),Data['Date'].loc[::500],rotation=45)\n",
    "plt.title(\"RELIANCE Stock Price\",fontsize=18, fontweight='bold')\n",
    "plt.xlabel('Date',fontsize=18)\n",
    "plt.ylabel('Close Price (USD)',fontsize=18)\n",
    "plt.show()"
   ]
  },
  {
   "cell_type": "markdown",
   "metadata": {},
   "source": [
    "normalize the data"
   ]
  },
  {
   "cell_type": "code",
   "execution_count": 6,
   "metadata": {},
   "outputs": [
    {
     "name": "stdout",
     "output_type": "stream",
     "text": [
      "<class 'pandas.core.frame.DataFrame'>\n",
      "Int64Index: 5075 entries, 0 to 5074\n",
      "Data columns (total 1 columns):\n",
      "Close    5075 non-null float64\n",
      "dtypes: float64(1)\n",
      "memory usage: 79.3 KB\n"
     ]
    }
   ],
   "source": [
    "Data[['Close']].info()"
   ]
  },
  {
   "cell_type": "code",
   "execution_count": 7,
   "metadata": {},
   "outputs": [
    {
     "name": "stderr",
     "output_type": "stream",
     "text": [
      "C:\\Users\\sony\\Anaconda3\\lib\\site-packages\\ipykernel_launcher.py:4: SettingWithCopyWarning: \n",
      "A value is trying to be set on a copy of a slice from a DataFrame.\n",
      "Try using .loc[row_indexer,col_indexer] = value instead\n",
      "\n",
      "See the caveats in the documentation: http://pandas.pydata.org/pandas-docs/stable/indexing.html#indexing-view-versus-copy\n",
      "  after removing the cwd from sys.path.\n"
     ]
    }
   ],
   "source": [
    "from sklearn.preprocessing import MinMaxScaler\n",
    "price=Data[['Close']]\n",
    "scaler = MinMaxScaler(feature_range=(-1, 1))\n",
    "price['Close'] = scaler.fit_transform(price['Close'].values.reshape(-1,1))"
   ]
  },
  {
   "cell_type": "code",
   "execution_count": 8,
   "metadata": {},
   "outputs": [
    {
     "data": {
      "text/plain": [
       "5072   -0.176611\n",
       "5073   -0.158915\n",
       "5074   -0.164118\n",
       "Name: Close, dtype: float64"
      ]
     },
     "execution_count": 8,
     "metadata": {},
     "output_type": "execute_result"
    }
   ],
   "source": [
    "price['Close'].tail(3)"
   ]
  },
  {
   "cell_type": "markdown",
   "metadata": {},
   "source": [
    "Creating seuquence data for LSTM\n",
    "to explain the below code:\n",
    "    data is an empty list that will contain  inner lists each one of the inner list will contain a sequense of price data\n",
    "    in the lenght of sitted prediction days which is forty \n",
    "then splliting the data by factor 0.2 to train and test\n",
    "the x which is the features data will contain all the elements of the inner lists except the last value of each list which will be the y or the target.\n",
    "meaning that because each inner list will contain 40 elements x will have all except the last which is 40-1=39 and the y will be the last which is 1"
   ]
  },
  {
   "cell_type": "code",
   "execution_count": 9,
   "metadata": {},
   "outputs": [
    {
     "name": "stdout",
     "output_type": "stream",
     "text": [
      "x_train.shape =  (4028, 39, 1)\n",
      "y_train.shape =  (4028, 1)\n",
      "x_test.shape =  (1007, 39, 1)\n",
      "y_test.shape =  (1007, 1)\n"
     ]
    }
   ],
   "source": [
    "prediction_days=40\n",
    "Price=price.to_numpy() # convert to numpy array\n",
    "data = []\n",
    "    \n",
    "    \n",
    "for index in range(len(Price) -prediction_days): \n",
    "    data.append(Price[index: index + prediction_days])\n",
    "    \n",
    "data = np.array(data);\n",
    "test_set_size = int(np.round(0.2*data.shape[0]));\n",
    "train_set_size = data.shape[0] - (test_set_size);\n",
    "\n",
    "x_train = data[:train_set_size,:-1]\n",
    "y_train = data[:train_set_size,-1]\n",
    "\n",
    "x_test = data[train_set_size:,:-1]\n",
    "y_test = data[train_set_size:,-1]\n",
    "\n",
    "print('x_train.shape = ',x_train.shape)\n",
    "print('y_train.shape = ',y_train.shape)\n",
    "print('x_test.shape = ',x_test.shape)\n",
    "print('y_test.shape = ',y_test.shape)"
   ]
  },
  {
   "cell_type": "code",
   "execution_count": 10,
   "metadata": {},
   "outputs": [
    {
     "data": {
      "text/plain": [
       "array([[[-0.96785578],\n",
       "        [-0.95450102],\n",
       "        [-0.94744255],\n",
       "        ...,\n",
       "        [-0.91609365],\n",
       "        [-0.91148742],\n",
       "        [-0.91688897]],\n",
       "\n",
       "       [[-0.95450102],\n",
       "        [-0.94744255],\n",
       "        [-0.93958875],\n",
       "        ...,\n",
       "        [-0.91148742],\n",
       "        [-0.91688897],\n",
       "        [-0.91390652]],\n",
       "\n",
       "       [[-0.94744255],\n",
       "        [-0.93958875],\n",
       "        [-0.92620085],\n",
       "        ...,\n",
       "        [-0.91688897],\n",
       "        [-0.91390652],\n",
       "        [-0.92865309]],\n",
       "\n",
       "       ...,\n",
       "\n",
       "       [[-0.50328898],\n",
       "        [-0.50895564],\n",
       "        [-0.50481335],\n",
       "        ...,\n",
       "        [-0.44609216],\n",
       "        [-0.46070618],\n",
       "        [-0.46067304]],\n",
       "\n",
       "       [[-0.50895564],\n",
       "        [-0.50481335],\n",
       "        [-0.49401024],\n",
       "        ...,\n",
       "        [-0.46070618],\n",
       "        [-0.46067304],\n",
       "        [-0.45904926]],\n",
       "\n",
       "       [[-0.50481335],\n",
       "        [-0.49401024],\n",
       "        [-0.4843007 ],\n",
       "        ...,\n",
       "        [-0.46067304],\n",
       "        [-0.45904926],\n",
       "        [-0.47409408]]])"
      ]
     },
     "execution_count": 10,
     "metadata": {},
     "output_type": "execute_result"
    }
   ],
   "source": [
    "x_train"
   ]
  },
  {
   "cell_type": "code",
   "execution_count": 11,
   "metadata": {},
   "outputs": [
    {
     "data": {
      "text/plain": [
       "array([[-0.91390652],\n",
       "       [-0.92865309],\n",
       "       [-0.92470963],\n",
       "       ...,\n",
       "       [-0.45904926],\n",
       "       [-0.47409408],\n",
       "       [-0.48337282]])"
      ]
     },
     "execution_count": 11,
     "metadata": {},
     "output_type": "execute_result"
    }
   ],
   "source": [
    "y_train"
   ]
  },
  {
   "cell_type": "markdown",
   "metadata": {},
   "source": [
    "prepering the data for LSTM by converting np arrays to torch tensors"
   ]
  },
  {
   "cell_type": "code",
   "execution_count": 12,
   "metadata": {},
   "outputs": [],
   "source": [
    "import torch\n",
    "import torch.nn as nn\n",
    "\n",
    "x_train = torch.from_numpy(x_train).type(torch.Tensor)\n",
    "x_test = torch.from_numpy(x_test).type(torch.Tensor)\n",
    "y_train_lstm = torch.from_numpy(y_train).type(torch.Tensor)\n",
    "y_test_lstm = torch.from_numpy(y_test).type(torch.Tensor)"
   ]
  },
  {
   "cell_type": "markdown",
   "metadata": {},
   "source": [
    "creating LSTM with one linear layer for regresstion "
   ]
  },
  {
   "cell_type": "code",
   "execution_count": 13,
   "metadata": {},
   "outputs": [],
   "source": [
    "class LSTM(nn.Module):\n",
    "    def __init__(self, input_dim, hidden_dim, num_layers, output_dim,drop_p):\n",
    "        super(LSTM, self).__init__()\n",
    "        self.hidden_dim = hidden_dim\n",
    "        self.num_layers = num_layers\n",
    "        \n",
    "        self.lstm = nn.LSTM(input_dim, hidden_dim, num_layers,dropout=drop_p, batch_first=True)\n",
    "        self.fc1 = nn.Linear(hidden_dim,int( hidden_dim*0.3))\n",
    "        self.fc2 = nn.Linear(int(0.3*hidden_dim), output_dim)\n",
    "        self.dropout=nn.Dropout(drop_p)\n",
    "\n",
    "    def forward(self, x):\n",
    "        #initialize the hidden state to zero while allowing to grad\n",
    "        h0 = torch.zeros(self.num_layers, x.size(0),self.hidden_dim).requires_grad_()\n",
    "        #initialize the cell state to zero \n",
    "        c0 = torch.zeros(self.num_layers, x.size(0), self.hidden_dim).requires_grad_()\n",
    "        #detach will pervent backprop from goingall the way to the start \n",
    "        out, (hn, cn) = self.lstm(x, (h0.detach(), c0.detach()))\n",
    "        out=self.fc1(out)\n",
    "        out = self.fc2(out[:, -1, :]) \n",
    "        return out"
   ]
  },
  {
   "cell_type": "markdown",
   "metadata": {},
   "source": [
    "setting the paremeters for the lstm training "
   ]
  },
  {
   "cell_type": "code",
   "execution_count": 14,
   "metadata": {},
   "outputs": [],
   "source": [
    "model = LSTM(input_dim=1, hidden_dim=32, output_dim=1, num_layers=2,drop_p=0.2)\n",
    "criterion = torch.nn.MSELoss(reduction='mean')\n",
    "optimiser = torch.optim.Adam(model.parameters(), lr=0.01)"
   ]
  },
  {
   "cell_type": "markdown",
   "metadata": {},
   "source": [
    "training the LSTM"
   ]
  },
  {
   "cell_type": "code",
   "execution_count": 15,
   "metadata": {},
   "outputs": [
    {
     "name": "stdout",
     "output_type": "stream",
     "text": [
      "Epoch  0 MSE:  0.3750588893890381\n",
      "Epoch  1 MSE:  0.2635616660118103\n",
      "Epoch  2 MSE:  0.17805680632591248\n",
      "Epoch  3 MSE:  0.14485512673854828\n",
      "Epoch  4 MSE:  0.16831493377685547\n",
      "Epoch  5 MSE:  0.133103147149086\n",
      "Epoch  6 MSE:  0.12059273570775986\n",
      "Epoch  7 MSE:  0.12157212942838669\n",
      "Epoch  8 MSE:  0.1141846552491188\n",
      "Epoch  9 MSE:  0.092276431620121\n",
      "Epoch  10 MSE:  0.06704095751047134\n",
      "Epoch  11 MSE:  0.06758330762386322\n",
      "Epoch  12 MSE:  0.04851747304201126\n",
      "Epoch  13 MSE:  0.022459300234913826\n",
      "Epoch  14 MSE:  0.040818437933921814\n",
      "Epoch  15 MSE:  0.03019183687865734\n",
      "Epoch  16 MSE:  0.014971106313169003\n",
      "Epoch  17 MSE:  0.020608017221093178\n",
      "Epoch  18 MSE:  0.017596665769815445\n",
      "Epoch  19 MSE:  0.00953401904553175\n",
      "Epoch  20 MSE:  0.009592350572347641\n",
      "Epoch  21 MSE:  0.012846224941313267\n",
      "Epoch  22 MSE:  0.013085816986858845\n",
      "Epoch  23 MSE:  0.009432104416191578\n",
      "Epoch  24 MSE:  0.006633376237004995\n",
      "Epoch  25 MSE:  0.007288089022040367\n",
      "Epoch  26 MSE:  0.008372345939278603\n",
      "Epoch  27 MSE:  0.006406514905393124\n",
      "Epoch  28 MSE:  0.003966185729950666\n",
      "Epoch  29 MSE:  0.004268030170351267\n",
      "Epoch  30 MSE:  0.005569346249103546\n",
      "Epoch  31 MSE:  0.0044868686236441135\n",
      "Epoch  32 MSE:  0.0029841202776879072\n",
      "Epoch  33 MSE:  0.0037886896170675755\n",
      "Epoch  34 MSE:  0.004789754282683134\n",
      "Epoch  35 MSE:  0.0032944672275334597\n",
      "Epoch  36 MSE:  0.0029874781612306833\n",
      "Epoch  37 MSE:  0.0041261897422373295\n",
      "Epoch  38 MSE:  0.003530084853991866\n",
      "Epoch  39 MSE:  0.0024273679591715336\n",
      "Epoch  40 MSE:  0.0026523435954004526\n",
      "Epoch  41 MSE:  0.003289282787591219\n",
      "Epoch  42 MSE:  0.0025388163048774004\n",
      "Epoch  43 MSE:  0.002187412464991212\n",
      "Epoch  44 MSE:  0.0027531192172318697\n",
      "Epoch  45 MSE:  0.002772735897451639\n",
      "Epoch  46 MSE:  0.002401595702394843\n",
      "Epoch  47 MSE:  0.0023070808965712786\n",
      "Epoch  48 MSE:  0.00258368207141757\n",
      "Epoch  49 MSE:  0.002528521930798888\n",
      "Epoch  50 MSE:  0.0021448079496622086\n",
      "Epoch  51 MSE:  0.00217232177965343\n",
      "Epoch  52 MSE:  0.002284775488078594\n",
      "Epoch  53 MSE:  0.0023041574750095606\n",
      "Epoch  54 MSE:  0.002002510940656066\n",
      "Epoch  55 MSE:  0.002127154031768441\n",
      "Epoch  56 MSE:  0.0021409904584288597\n",
      "Epoch  57 MSE:  0.002038470935076475\n",
      "Epoch  58 MSE:  0.002017450984567404\n",
      "Epoch  59 MSE:  0.0021938965655863285\n",
      "Epoch  60 MSE:  0.0019790094811469316\n",
      "Epoch  61 MSE:  0.0020662827882915735\n",
      "Epoch  62 MSE:  0.002082222141325474\n",
      "Epoch  63 MSE:  0.002015884267166257\n",
      "Epoch  64 MSE:  0.0019408885855227709\n",
      "Epoch  65 MSE:  0.00205412320792675\n",
      "Epoch  66 MSE:  0.0020367270335555077\n",
      "Epoch  67 MSE:  0.0019250825280323625\n",
      "Epoch  68 MSE:  0.00189494458027184\n",
      "Epoch  69 MSE:  0.0020205609034746885\n",
      "Epoch  70 MSE:  0.0019103367812931538\n",
      "Epoch  71 MSE:  0.001879786141216755\n",
      "Epoch  72 MSE:  0.0019797845743596554\n",
      "Epoch  73 MSE:  0.0019674866925925016\n",
      "Epoch  74 MSE:  0.0019171475432813168\n",
      "Epoch  75 MSE:  0.0019002803601324558\n",
      "Epoch  76 MSE:  0.0018812667112797499\n",
      "Epoch  77 MSE:  0.0017742092022672296\n",
      "Epoch  78 MSE:  0.001918876194395125\n",
      "Epoch  79 MSE:  0.001862481003627181\n",
      "Epoch  80 MSE:  0.0018967775395140052\n",
      "Epoch  81 MSE:  0.001827655010856688\n",
      "Epoch  82 MSE:  0.0018561112228780985\n",
      "Epoch  83 MSE:  0.0018090802477672696\n",
      "Epoch  84 MSE:  0.0018184665823355317\n",
      "Epoch  85 MSE:  0.0018320403760299087\n",
      "Epoch  86 MSE:  0.0017870512092486024\n",
      "Epoch  87 MSE:  0.0018112113466486335\n",
      "Epoch  88 MSE:  0.0018064127070829272\n",
      "Epoch  89 MSE:  0.0018638252513483167\n",
      "Epoch  90 MSE:  0.001790001755580306\n",
      "Epoch  91 MSE:  0.0017518919194117188\n",
      "Epoch  92 MSE:  0.0018154964782297611\n",
      "Epoch  93 MSE:  0.0017205820186063647\n",
      "Epoch  94 MSE:  0.0017144297016784549\n",
      "Epoch  95 MSE:  0.0016680730041116476\n",
      "Epoch  96 MSE:  0.0017314590513706207\n",
      "Epoch  97 MSE:  0.0017560420092195272\n",
      "Epoch  98 MSE:  0.0017347709508612752\n",
      "Epoch  99 MSE:  0.0017308497335761786\n",
      "Training time: 269.5718238353729\n"
     ]
    }
   ],
   "source": [
    "import time\n",
    "num_epochs=100\n",
    "losses =[]\n",
    "start_time = time.time()\n",
    "\n",
    "\n",
    "\n",
    "for t in range(num_epochs):\n",
    "    y_train_pred = model(x_train)\n",
    "\n",
    "    loss = criterion(y_train_pred, y_train_lstm)\n",
    "    print(\"Epoch \", t, \"MSE: \", loss.item())\n",
    "    losses.append(loss.item())\n",
    "\n",
    "    optimiser.zero_grad()\n",
    "    loss.backward()\n",
    "    optimiser.step()\n",
    "    \n",
    "    \n",
    "training_time = time.time()-start_time\n",
    "print(\"Training time: {}\".format(training_time))\n",
    "optimiser.step()\n",
    "losses=np.array(losses)"
   ]
  },
  {
   "cell_type": "code",
   "execution_count": 16,
   "metadata": {},
   "outputs": [
    {
     "data": {
      "text/plain": [
       "array([0.37505889, 0.26356167, 0.17805681, 0.14485513, 0.16831493,\n",
       "       0.13310315, 0.12059274, 0.12157213, 0.11418466, 0.09227643,\n",
       "       0.06704096, 0.06758331, 0.04851747, 0.0224593 , 0.04081844,\n",
       "       0.03019184, 0.01497111, 0.02060802, 0.01759667, 0.00953402,\n",
       "       0.00959235, 0.01284622, 0.01308582, 0.0094321 , 0.00663338,\n",
       "       0.00728809, 0.00837235, 0.00640651, 0.00396619, 0.00426803,\n",
       "       0.00556935, 0.00448687, 0.00298412, 0.00378869, 0.00478975,\n",
       "       0.00329447, 0.00298748, 0.00412619, 0.00353008, 0.00242737,\n",
       "       0.00265234, 0.00328928, 0.00253882, 0.00218741, 0.00275312,\n",
       "       0.00277274, 0.0024016 , 0.00230708, 0.00258368, 0.00252852,\n",
       "       0.00214481, 0.00217232, 0.00228478, 0.00230416, 0.00200251,\n",
       "       0.00212715, 0.00214099, 0.00203847, 0.00201745, 0.0021939 ,\n",
       "       0.00197901, 0.00206628, 0.00208222, 0.00201588, 0.00194089,\n",
       "       0.00205412, 0.00203673, 0.00192508, 0.00189494, 0.00202056,\n",
       "       0.00191034, 0.00187979, 0.00197978, 0.00196749, 0.00191715,\n",
       "       0.00190028, 0.00188127, 0.00177421, 0.00191888, 0.00186248,\n",
       "       0.00189678, 0.00182766, 0.00185611, 0.00180908, 0.00181847,\n",
       "       0.00183204, 0.00178705, 0.00181121, 0.00180641, 0.00186383,\n",
       "       0.00179   , 0.00175189, 0.0018155 , 0.00172058, 0.00171443,\n",
       "       0.00166807, 0.00173146, 0.00175604, 0.00173477, 0.00173085])"
      ]
     },
     "execution_count": 16,
     "metadata": {},
     "output_type": "execute_result"
    }
   ],
   "source": [
    "losses"
   ]
  },
  {
   "cell_type": "code",
   "execution_count": 17,
   "metadata": {},
   "outputs": [],
   "source": [
    "#return the scaled data to the original shape\n",
    "predict = pd.DataFrame(scaler.inverse_transform(y_train_pred.detach().numpy()))\n",
    "original = pd.DataFrame(scaler.inverse_transform(y_train_lstm.detach().numpy()))"
   ]
  },
  {
   "cell_type": "code",
   "execution_count": 18,
   "metadata": {},
   "outputs": [
    {
     "data": {
      "image/png": "[encoded data removed]",
      "text/plain": [
       "<Figure size 1152x432 with 2 Axes>"
      ]
     },
     "metadata": {},
     "output_type": "display_data"
    }
   ],
   "source": [
    "import seaborn as sns\n",
    "sns.set_style(\"darkgrid\")    \n",
    "\n",
    "fig = plt.figure()\n",
    "fig.subplots_adjust(hspace=0.2, wspace=0.2)\n",
    "\n",
    "plt.subplot(1, 2, 1)\n",
    "ax = sns.lineplot(x = original.index, y = original[0], label=\"Data\", color='royalblue')\n",
    "ax = sns.lineplot(x = predict.index, y = predict[0], label=\"Training Prediction (LSTM)\", color='tomato')\n",
    "ax.set_title('Stock price', size = 14, fontweight='bold')\n",
    "ax.set_xlabel(\"Days\", size = 14)\n",
    "ax.set_ylabel(\"Cost (USD)\", size = 14)\n",
    "ax.set_xticklabels('', size=10)\n",
    "\n",
    "\n",
    "plt.subplot(1, 2, 2)\n",
    "ax = sns.lineplot(data=losses, color='royalblue')\n",
    "ax.set_xlabel(\"Epoch\", size = 14)\n",
    "ax.set_ylabel(\"Loss\", size = 14)\n",
    "ax.set_title(\"Training Loss\", size = 14, fontweight='bold')\n",
    "fig.set_figheight(6)\n",
    "fig.set_figwidth(16)\n"
   ]
  },
  {
   "cell_type": "code",
   "execution_count": 19,
   "metadata": {},
   "outputs": [
    {
     "name": "stdout",
     "output_type": "stream",
     "text": [
      "Train Score: 62.77 RMSE\n",
      "Test Score: 55.76 RMSE\n"
     ]
    }
   ],
   "source": [
    "\n",
    "from sklearn.metrics import mean_squared_error\n",
    "# make predictions\n",
    "y_test_pred = model(x_test)\n",
    "\n",
    "# invert predictions\n",
    "y_train_pred = scaler.inverse_transform(y_train_pred.detach().numpy())\n",
    "y_train = scaler.inverse_transform(y_train_lstm.detach().numpy())\n",
    "y_test_pred = scaler.inverse_transform(y_test_pred.detach().numpy())\n",
    "y_test = scaler.inverse_transform(y_test_lstm.detach().numpy())\n",
    "\n",
    "# calculate root mean squared error\n",
    "trainScore = np.sqrt(mean_squared_error(y_train[:,0], y_train_pred[:,0]))\n",
    "print('Train Score: %.2f RMSE' % (trainScore))\n",
    "testScore = np.sqrt(mean_squared_error(y_test[:,0], y_test_pred[:,0]))\n",
    "print('Test Score: %.2f RMSE' % (testScore))"
   ]
  },
  {
   "cell_type": "code",
   "execution_count": 20,
   "metadata": {},
   "outputs": [],
   "source": [
    "# Shift train predictions for plotting\n",
    "# np.empty_like: returns a new array with the same shape and type as a given array\n",
    "trainPredictPlot = np.empty_like(price)\n",
    "trainPredictPlot[:,:] = np.nan\n",
    "trainPredictPlot[prediction_days:len(y_train_pred)+prediction_days,:] = y_train_pred\n",
    "\n",
    "# Shift test predictions for plotting\n",
    "testPredictPlot = np.empty_like(price)\n",
    "testPredictPlot[:,:] = np.nan\n",
    "testPredictPlot[len(y_train_pred)+prediction_days-1:len(price)-1,:] =y_test_pred"
   ]
  },
  {
   "cell_type": "code",
   "execution_count": 21,
   "metadata": {},
   "outputs": [
    {
     "data": {
      "image/png": "[encoded data removed]",
      "text/plain": [
       "<Figure size 1080x648 with 1 Axes>"
      ]
     },
     "metadata": {},
     "output_type": "display_data"
    }
   ],
   "source": [
    "\n",
    "sns.set_style(\"darkgrid\")\n",
    "plt.figure(figsize = (15,9))\n",
    "plt.plot(scaler.inverse_transform(price),label=\"original price\",color='r')\n",
    "\n",
    "plt.plot(trainPredictPlot,label='train prediction',color='yellow')\n",
    "\n",
    "plt.plot(testPredictPlot,label='test prediction',color='cyan')\n",
    "plt.legend()\n",
    "plt.xticks(range(0,Data.shape[0],500),Data['Date'].loc[::500],rotation=45)\n",
    "plt.title(\"RELIANCE Stock Price\",fontsize=18, fontweight='bold')\n",
    "plt.xlabel('Date',fontsize=18)\n",
    "plt.ylabel('Close Price (USD)',fontsize=18)\n",
    "plt.show()"
   ]
  }
 ],
 "metadata": {
  "kernelspec": {
   "display_name": "Python 3",
   "language": "python",
   "name": "python3"
  },
  "language_info": {
   "codemirror_mode": {
    "name": "ipython",
    "version": 3
   },
   "file_extension": ".py",
   "mimetype": "text/x-python",
   "name": "python",
   "nbconvert_exporter": "python",
   "pygments_lexer": "ipython3",
   "version": "3.7.3"
  }
 },
 "nbformat": 4,
 "nbformat_minor": 2
}
